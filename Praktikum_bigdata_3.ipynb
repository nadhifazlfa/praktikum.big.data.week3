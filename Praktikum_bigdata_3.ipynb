{
  "nbformat": 4,
  "nbformat_minor": 0,
  "metadata": {
    "colab": {
      "provenance": [],
      "authorship_tag": "ABX9TyNSCyQgjYypns8BlNI7LwlW",
      "include_colab_link": true
    },
    "kernelspec": {
      "name": "python3",
      "display_name": "Python 3"
    },
    "language_info": {
      "name": "python"
    }
  },
  "cells": [
    {
      "cell_type": "markdown",
      "metadata": {
        "id": "view-in-github",
        "colab_type": "text"
      },
      "source": [
        "<a href=\"https://colab.research.google.com/github/nadhifazlfa/praktikum.big.data.week3/blob/main/Praktikum_bigdata_3.ipynb\" target=\"_parent\"><img src=\"https://colab.research.google.com/assets/colab-badge.svg\" alt=\"Open In Colab\"/></a>"
      ]
    },
    {
      "cell_type": "code",
      "execution_count": null,
      "metadata": {
        "colab": {
          "base_uri": "https://localhost:8080/"
        },
        "id": "fRE1KYvN7yZR",
        "outputId": "560b8fc0-a7d0-441c-cb33-9784e44c1057"
      },
      "outputs": [
        {
          "output_type": "stream",
          "name": "stdout",
          "text": [
            "+------------+----------+------+\n",
            "|EmployeeName|Department|Salary|\n",
            "+------------+----------+------+\n",
            "|       James|     Sales|  3000|\n",
            "|     Michael|     Sales|  4600|\n",
            "|      Robert|     Sales|  4100|\n",
            "|       Maria|   Finance|  3000|\n",
            "|       Scoot|   Finance|  3300|\n",
            "+------------+----------+------+\n",
            "\n"
          ]
        }
      ],
      "source": [
        "# DataFrame sederhana dan operasi dasar\n",
        "from pyspark.sql import SparkSession\n",
        "spark = SparkSession.builder.appName('HandsOnPertemuan3').getOrCreate()\n",
        "\n",
        "data = [('James', 'Sales', 3000),\n",
        "        ('Michael', 'Sales', 4600),\n",
        "        ('Robert', 'Sales', 4100),\n",
        "        ('Maria', 'Finance', 3000),\n",
        "        ('Scoot', 'Finance', 3300)]\n",
        "columns = ['EmployeeName', 'Department', 'Salary']\n",
        "\n",
        "df = spark.createDataFrame(data, schema=columns)\n",
        "df.show()"
      ]
    },
    {
      "cell_type": "code",
      "source": [
        "# DataFrame Spark dan operasi dasar filter()\n",
        "from pyspark.sql import SparkSession\n",
        "spark = SparkSession.builder.appName('HandsOnPertemuan3').getOrCreate()\n",
        "\n",
        "data = [('James', 'Sales', 3000),\n",
        "        ('Michael', 'Sales', 4600),\n",
        "        ('Robert', 'Sales', 4100),\n",
        "        ('Maria', 'Finance', 3000),\n",
        "        ('Scoot', 'Finance', 3300)]\n",
        "columns = ['EmployeeName', 'Department', 'Salary']\n",
        "\n",
        "df = spark.createDataFrame(data, schema=columns)\n",
        "df.filter(df['Salary']> 4000).show()"
      ],
      "metadata": {
        "colab": {
          "base_uri": "https://localhost:8080/"
        },
        "id": "oyKbn-nYMiP9",
        "outputId": "a4cd2430-6ee4-4790-fa0a-e11936b03d21"
      },
      "execution_count": null,
      "outputs": [
        {
          "output_type": "stream",
          "name": "stdout",
          "text": [
            "+------------+----------+------+\n",
            "|EmployeeName|Department|Salary|\n",
            "+------------+----------+------+\n",
            "|     Michael|     Sales|  4600|\n",
            "|      Robert|     Sales|  4100|\n",
            "+------------+----------+------+\n",
            "\n"
          ]
        }
      ]
    },
    {
      "cell_type": "code",
      "source": [
        "# DataFrame Spark sederhana dan operasi dasar select()\n",
        "from pyspark.sql import SparkSession\n",
        "spark = SparkSession.builder.appName('HandsOnPertemuan3').getOrCreate()\n",
        "\n",
        "data = [('James', 'Sales', 3000),\n",
        "        ('Michael', 'Sales', 4600),\n",
        "        ('Robert', 'Sales', 4100),\n",
        "        ('Maria', 'Finance', 3000),\n",
        "        ('Scoot', 'Finance', 3300)]\n",
        "columns = ['EmployeeName', 'Department', 'Salary']\n",
        "\n",
        "df = spark.createDataFrame(data, schema=columns)\n",
        "\n",
        "df.select('EmployeeName', 'Salary').show()"
      ],
      "metadata": {
        "colab": {
          "base_uri": "https://localhost:8080/"
        },
        "id": "jO3GFhObPEwm",
        "outputId": "3bd4c3cb-8b88-436c-ca31-fe2241fcd264"
      },
      "execution_count": null,
      "outputs": [
        {
          "output_type": "stream",
          "name": "stdout",
          "text": [
            "+------------+------+\n",
            "|EmployeeName|Salary|\n",
            "+------------+------+\n",
            "|       James|  3000|\n",
            "|     Michael|  4600|\n",
            "|      Robert|  4100|\n",
            "|       Maria|  3000|\n",
            "|       Scoot|  3300|\n",
            "+------------+------+\n",
            "\n"
          ]
        }
      ]
    },
    {
      "cell_type": "code",
      "source": [
        "# DataFrame Spark sederhana dan operasi dasar groupBy()\n",
        "from pyspark.sql import SparkSession\n",
        "spark = SparkSession.builder.appName('HandsOnPertemuan3').getOrCreate()\n",
        "\n",
        "data = [('James', 'Sales', 3000),\n",
        "        ('Michael', 'Sales', 4600),\n",
        "        ('Robert', 'Sales', 4100),\n",
        "        ('Maria', 'Finance', 3000),\n",
        "        ('Scoot', 'Finance', 3300)]\n",
        "columns = ['EmployeeName', 'Department', 'Salary']\n",
        "\n",
        "df = spark.createDataFrame(data, schema=columns)\n",
        "\n",
        "df.groupBy('Department').avg('Salary').show()"
      ],
      "metadata": {
        "colab": {
          "base_uri": "https://localhost:8080/"
        },
        "id": "t_JhMUVHP_Z8",
        "outputId": "4c244614-6b57-4435-bf87-f6321f906c7c"
      },
      "execution_count": null,
      "outputs": [
        {
          "output_type": "stream",
          "name": "stdout",
          "text": [
            "+----------+-----------+\n",
            "|Department|avg(Salary)|\n",
            "+----------+-----------+\n",
            "|     Sales|     3900.0|\n",
            "|   Finance|     3150.0|\n",
            "+----------+-----------+\n",
            "\n"
          ]
        }
      ]
    },
    {
      "cell_type": "code",
      "source": [
        "# DataFrame Spark sederhana & operasi dasar groupBy() + fungsi agregasi\n",
        "from pyspark.sql import SparkSession\n",
        "from pyspark.sql.functions import count, mean, max\n",
        "\n",
        "# Inisialisasi Spark\n",
        "spark = SparkSession.builder.appName(\"Contoh\").getOrCreate()\n",
        "\n",
        "# Membuat data contoh\n",
        "data = [\n",
        "    (\"James\", \"Sales\", 3000),\n",
        "    (\"Michael\", \"Sales\", 4600),\n",
        "    (\"Robert\", \"Sales\", 4100),\n",
        "    (\"Maria\", \"Finance\", 3000),\n",
        "    (\"Scoot\", \"Finance\", 3000)\n",
        "]\n",
        "\n",
        "# Membuat DataFrame\n",
        "columns = [\"Department\", \"EmployeeName\", \"Salary\"]\n",
        "df = spark.createDataFrame(data, columns)\n",
        "\n",
        "# Melakukan agregasi\n",
        "result = df.groupBy('Department').agg(\n",
        "    count(\"EmployeeName\").alias(\"Employee Count\"),\n",
        "    mean(\"Salary\").alias(\"Average Salary\"),\n",
        "    max(\"Salary\").alias(\"Max Salary\")\n",
        ")\n",
        "\n",
        "# Menampilkan hasil\n",
        "result.show()"
      ],
      "metadata": {
        "colab": {
          "base_uri": "https://localhost:8080/"
        },
        "id": "ta_yaMWoyaE9",
        "outputId": "bac50bac-285b-4c86-be89-770a964aa211"
      },
      "execution_count": 2,
      "outputs": [
        {
          "output_type": "stream",
          "name": "stdout",
          "text": [
            "+----------+--------------+--------------+----------+\n",
            "|Department|Employee Count|Average Salary|Max Salary|\n",
            "+----------+--------------+--------------+----------+\n",
            "|     James|             1|        3000.0|      3000|\n",
            "|   Michael|             1|        4600.0|      4600|\n",
            "|     Scoot|             1|        3000.0|      3000|\n",
            "|     Maria|             1|        3000.0|      3000|\n",
            "|    Robert|             1|        4100.0|      4100|\n",
            "+----------+--------------+--------------+----------+\n",
            "\n"
          ]
        }
      ]
    },
    {
      "cell_type": "code",
      "source": [
        "# DataFrame Spark sederhana dan operasi dasar groupBy()\n",
        "from pyspark.sql import SparkSession\n",
        "spark = SparkSession.builder.appName('HandsOnPertemuan3').getOrCreate()\n",
        "\n",
        "data = [('James', 'Sales', 3000),\n",
        "        ('Michael', 'Sales', 4600),\n",
        "        ('Robert', 'Sales', 4100),\n",
        "        ('Maria', 'Finance', 3000),\n",
        "        ('Scoot', 'Finance', 3300)]\n",
        "columns = ['EmployeeName', 'Department', 'Salary']\n",
        "\n",
        "df = spark.createDataFrame(data, schema=columns)\n",
        "\n",
        "df1 = df.withColumn('SalaryBonus', df['Salary'] *0.1)\n",
        "print(\"      Bonus Gaji Karyawan per Departmen\")\n",
        "df1.show()\n",
        "\n",
        "df2 = df1.withColumn('TotalCompenstation', df1['Salary'] + df1['SalaryBonus'])\n",
        "print(\"                      Total Kompensasi Karyawan\")\n",
        "df2.show()"
      ],
      "metadata": {
        "colab": {
          "base_uri": "https://localhost:8080/"
        },
        "id": "-9ENfglIfA9C",
        "outputId": "1c35affc-6d3b-4446-bdce-863c14992806"
      },
      "execution_count": null,
      "outputs": [
        {
          "output_type": "stream",
          "name": "stdout",
          "text": [
            "      Bonus Gaji Karyawan per Departmen\n",
            "+------------+----------+------+-----------+\n",
            "|EmployeeName|Department|Salary|SalaryBonus|\n",
            "+------------+----------+------+-----------+\n",
            "|       James|     Sales|  3000|      300.0|\n",
            "|     Michael|     Sales|  4600|      460.0|\n",
            "|      Robert|     Sales|  4100|      410.0|\n",
            "|       Maria|   Finance|  3000|      300.0|\n",
            "|       Scoot|   Finance|  3300|      330.0|\n",
            "+------------+----------+------+-----------+\n",
            "\n",
            "                      Total Kompensasi Karyawan\n",
            "+------------+----------+------+-----------+------------------+\n",
            "|EmployeeName|Department|Salary|SalaryBonus|TotalCompenstation|\n",
            "+------------+----------+------+-----------+------------------+\n",
            "|       James|     Sales|  3000|      300.0|            3300.0|\n",
            "|     Michael|     Sales|  4600|      460.0|            5060.0|\n",
            "|      Robert|     Sales|  4100|      410.0|            4510.0|\n",
            "|       Maria|   Finance|  3000|      300.0|            3300.0|\n",
            "|       Scoot|   Finance|  3300|      330.0|            3630.0|\n",
            "+------------+----------+------+-----------+------------------+\n",
            "\n"
          ]
        }
      ]
    },
    {
      "cell_type": "code",
      "source": [
        "# Implementasi window function\n",
        "from pyspark.sql import SparkSession\n",
        "from pyspark.sql.window import Window\n",
        "from pyspark.sql import functions as F\n",
        "\n",
        "# Inisialisasi Spark\n",
        "spark = SparkSession.builder.appName(\"Contoh\").getOrCreate()\n",
        "\n",
        "data = [('James', 'Sales', 3000),\n",
        "        ('Michael', 'Sales', 4600),\n",
        "        ('Robert', 'Sales', 4100),\n",
        "        ('Maria', 'Finance', 3000),\n",
        "        ('Scoot', 'Finance', 3300)]\n",
        "\n",
        "# Membuat DataFrame\n",
        "columns = [\"Department\", \"EmployeeName\", \"Salary\"]\n",
        "df = spark.createDataFrame(data, columns)\n",
        "\n",
        "# Contoh penggunaan window function\n",
        "window_spec = Window.partitionBy(\"Department\").orderBy(\"Salary\")\n",
        "\n",
        "# Menambahkan kolom gaji kumulatif\n",
        "df_with_rank = df.withColumn(\"Rank\", F.rank().over(window_spec))\n",
        "\n",
        "# Menampilkan hasil\n",
        "df_with_rank.show()"
      ],
      "metadata": {
        "colab": {
          "base_uri": "https://localhost:8080/"
        },
        "id": "VAytvZB40byJ",
        "outputId": "bb823365-5dcf-432a-eeed-397769b64709"
      },
      "execution_count": 4,
      "outputs": [
        {
          "output_type": "stream",
          "name": "stdout",
          "text": [
            "+----------+------------+------+----+\n",
            "|Department|EmployeeName|Salary|Rank|\n",
            "+----------+------------+------+----+\n",
            "|     James|       Sales|  3000|   1|\n",
            "|     Maria|     Finance|  3000|   1|\n",
            "|   Michael|       Sales|  4600|   1|\n",
            "|    Robert|       Sales|  4100|   1|\n",
            "|     Scoot|     Finance|  3300|   1|\n",
            "+----------+------------+------+----+\n",
            "\n"
          ]
        }
      ]
    },
    {
      "cell_type": "code",
      "source": [
        "# Tugas 5\n",
        "import kagglehub\n",
        "\n",
        "# Download latest version\n",
        "path = kagglehub.dataset_download(\"vijyushaburra/roti-datasets\")\n",
        "\n",
        "print(\"Path to dataset files:\", path)"
      ],
      "metadata": {
        "colab": {
          "base_uri": "https://localhost:8080/"
        },
        "id": "h1_0zFsF3Bs5",
        "outputId": "9c7e54f9-2f21-4992-d6a5-2352b54cc454"
      },
      "execution_count": 2,
      "outputs": [
        {
          "output_type": "stream",
          "name": "stdout",
          "text": [
            "Using Colab cache for faster access to the 'roti-datasets' dataset.\n",
            "Path to dataset files: /kaggle/input/roti-datasets\n"
          ]
        }
      ]
    },
    {
      "cell_type": "code",
      "source": [
        "import os\n",
        "\n",
        "print(\"Isi folder dataset:\")\n",
        "print(os.listdir(path))\n"
      ],
      "metadata": {
        "colab": {
          "base_uri": "https://localhost:8080/"
        },
        "id": "8E17uqya40ef",
        "outputId": "479c6768-d6cb-4da3-f37f-eac7debcd962"
      },
      "execution_count": 5,
      "outputs": [
        {
          "output_type": "stream",
          "name": "stdout",
          "text": [
            "Isi folder dataset:\n",
            "['roti_dataset_labels.csv', 'dataset_images']\n"
          ]
        }
      ]
    },
    {
      "cell_type": "code",
      "source": [
        "from pyspark.sql import SparkSession\n",
        "from pyspark.sql.functions import col\n",
        "\n",
        "# Inisialisasi Spark\n",
        "spark = SparkSession.builder.appName(\"RotiDataset\").getOrCreate()\n",
        "\n",
        "# Membaca dataset\n",
        "df = spark.read.csv(os.path.join(path, 'roti_dataset_labels.csv'), header=True, inferSchema=True)\n",
        "\n",
        "# Melihat data awal\n",
        "df.show()\n",
        "\n",
        "# Mengidentifikasi kolom yang diperlukan\n",
        "# Menggunakan 'label' dan 'image_name' berdasarkan pesan kesalahan\n",
        "\n",
        "# Membersihkan data (jika ada nilai yang hilang)\n",
        "df_cleaned = df.na.drop(subset=['label', 'image_name'])\n",
        "\n",
        "# Manipulasi data: Misalnya, menghitung jumlah gambar per label\n",
        "label_counts = df_cleaned.groupBy('label').count().orderBy('count', ascending=False)\n",
        "\n",
        "# Menampilkan hasil\n",
        "label_counts.show()"
      ],
      "metadata": {
        "colab": {
          "base_uri": "https://localhost:8080/"
        },
        "id": "DEspHk6a6Pif",
        "outputId": "8315fcc3-b730-4c2c-e991-78a0961fe139"
      },
      "execution_count": 7,
      "outputs": [
        {
          "output_type": "stream",
          "name": "stdout",
          "text": [
            "+-------------------+-----+\n",
            "|         image_name|label|\n",
            "+-------------------+-----+\n",
            "|    roti_0_9969.jpg|    1|\n",
            "| not_roti_0_541.jpg|    0|\n",
            "|    roti_0_4888.jpg|    1|\n",
            "|not_roti_0_3713.jpg|    0|\n",
            "|not_roti_0_2790.jpg|    0|\n",
            "|     roti_0_663.jpg|    1|\n",
            "|     roti_0_329.jpg|    1|\n",
            "|not_roti_0_2298.jpg|    0|\n",
            "|    roti_0_6307.jpg|    1|\n",
            "|not_roti_0_9058.jpg|    0|\n",
            "|    roti_0_8795.jpg|    1|\n",
            "|not_roti_0_5939.jpg|    0|\n",
            "|    roti_0_7451.jpg|    1|\n",
            "|not_roti_0_7855.jpg|    0|\n",
            "|    roti_0_8182.jpg|    1|\n",
            "| not_roti_0_302.jpg|    0|\n",
            "|not_roti_0_9418.jpg|    0|\n",
            "|    roti_0_7739.jpg|    1|\n",
            "|    roti_0_4523.jpg|    1|\n",
            "|not_roti_0_3029.jpg|    0|\n",
            "+-------------------+-----+\n",
            "only showing top 20 rows\n",
            "\n",
            "+-----+-----+\n",
            "|label|count|\n",
            "+-----+-----+\n",
            "|    1|  775|\n",
            "|    0|  766|\n",
            "+-----+-----+\n",
            "\n"
          ]
        }
      ]
    }
  ]
}